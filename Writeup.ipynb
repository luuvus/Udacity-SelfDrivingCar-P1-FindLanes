{
 "cells": [
  {
   "cell_type": "markdown",
   "metadata": {
    "deletable": true,
    "editable": true
   },
   "source": [
    "# **Finding Lane Lines on the Road** \n",
    "\n",
    "\n",
    "---\n",
    "\n",
    "**Finding Lane Lines on the Road**\n",
    "\n",
    "The goals / steps of this project are the following:\n",
    "* Make a pipeline that finds lane lines on the road\n",
    "* Reflect on your work in a written report\n",
    "\n",
    "\n",
    "[//]: # (Image References)\n",
    "\n",
    "[image1]: ./test_images_output/segments/solidWhiteCurve.jpg \"Solid White Curve\"\n",
    "\n",
    "---\n",
    "\n",
    "### Reflection\n",
    "\n",
    "### 1. Describe your pipeline. As part of the description, explain how you modified the draw_lines() function.\n",
    "\n",
    "My pipeline consisted of 6 steps:\n",
    "1. convert the input image to gray scale image\n",
    "2. apply blur effect on the gray scale image\n",
    "3. generate Canny edges detection image from the blurred gray scale image\n",
    "4. create masked region data from the Canny edges image data\n",
    "5. generate Hough Lines data using the masked region data\n",
    "6. produce the final image by apply weighted image transformation using Hough Lines data and the original input image\n",
    "\n",
    "\n",
    "In order to draw a single line on the left and right lanes, I modified the draw_lines() function as follow:\n",
    "\n",
    "1. calculate slope for each line points\n",
    "2. track left line data by evaluate for negative slope value, otherwise track right line data \n",
    "3. once left and right lines data collected, peform the following steps to draw a single continuous line\n",
    "    * get average of the slope, y-intercept, x-point, y-point\n",
    "    * calculate the low/min x-point and high/max x-point\n",
    "    * draw the line using low/min x-point and high/max x-point\n",
    "\n",
    "\n",
    "Example of lines visualization image: \n",
    "\n",
    "![alt text][image1]\n",
    "\n",
    "\n",
    "### 2. Identify potential shortcomings with your current pipeline\n",
    "\n",
    "\n",
    "The current lanes detection pipeline is not work well with sharp turn lanes and blurry lanes.\n",
    "\n",
    "\n",
    "\n",
    "### 3. Suggest possible improvements to your pipeline\n",
    "\n",
    "Consolidate the gray scale, blur, Canny edges detection into one function call to reduce memory usage. \n",
    "\n",
    "Reduce the lines drawing flickering in the the the draw_lines() function.\n",
    "\n",
    "Refactor the repetitive code blocks in the draw_lines() function that evaluate the min & max line points.\n",
    "\n",
    "Add a another function to \n",
    "\n",
    "1. refactor the code"
   ]
  },
  {
   "cell_type": "code",
   "execution_count": null,
   "metadata": {
    "collapsed": true,
    "deletable": true,
    "editable": true
   },
   "outputs": [],
   "source": []
  }
 ],
 "metadata": {
  "kernelspec": {
   "display_name": "Python 3",
   "language": "python",
   "name": "python3"
  },
  "language_info": {
   "codemirror_mode": {
    "name": "ipython",
    "version": 3
   },
   "file_extension": ".py",
   "mimetype": "text/x-python",
   "name": "python",
   "nbconvert_exporter": "python",
   "pygments_lexer": "ipython3",
   "version": "3.5.2"
  },
  "widgets": {
   "state": {},
   "version": "1.1.2"
  }
 },
 "nbformat": 4,
 "nbformat_minor": 2
}
